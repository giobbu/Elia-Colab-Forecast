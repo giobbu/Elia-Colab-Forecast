{
 "cells": [
  {
   "cell_type": "code",
   "execution_count": 10,
   "metadata": {},
   "outputs": [],
   "source": [
    "import numpy as np\n",
    "from loguru import logger\n",
    "import pandas as pd\n",
    "from source.utils.file_read import process_and_concat_files \n",
    "from source.utils.file_read import filter_df\n",
    "from source.utils.generate_timestamp import generate_timestamps\n",
    "from source.forecasters.deterministic import create_day_ahead_predictions, create_day_ahead_11_predictions, create_week_ahead_predictions\n",
    "from source.forecasters.probabilistic import create_day_ahead_quantiles10, create_day_ahead_11_quantiles10, create_week_ahead_quantiles10\n",
    "from source.forecasters.probabilistic import create_day_ahead_quantiles90, create_day_ahead_11_quantiles90, create_week_ahead_quantiles90"
   ]
  },
  {
   "cell_type": "code",
   "execution_count": 11,
   "metadata": {},
   "outputs": [],
   "source": [
    "from config.PREDICO_setting import Simulation, WeightedAvg, Stack, Buyer\n",
    "\n",
    "sim_params = Simulation.testing_period\n",
    "weight_avg_params = WeightedAvg.params\n",
    "ens_params = Stack.params\n",
    "buyer_params = Buyer.params"
   ]
  },
  {
   "cell_type": "markdown",
   "metadata": {},
   "source": [
    "# Read Files"
   ]
  },
  {
   "cell_type": "code",
   "execution_count": 12,
   "metadata": {},
   "outputs": [],
   "source": [
    "# set random seed\n",
    "np.random.seed(42)\n",
    "\n",
    "files = [sim_params['file_0'], sim_params['file_1'], sim_params['file_2'], sim_params['file_3'], sim_params['file_4']]\n",
    "df = process_and_concat_files(files)\n",
    "\n",
    "# get the maximum capacity\n",
    "maximum_capacity = df.measured.max()\n",
    "\n",
    "df_filtered = filter_df(df, sim_params['forecasts_col'], sim_params['measured_col'])"
   ]
  },
  {
   "cell_type": "markdown",
   "metadata": {},
   "source": [
    "# Forecasters"
   ]
  },
  {
   "cell_type": "code",
   "execution_count": 13,
   "metadata": {},
   "outputs": [
    {
     "name": "stderr",
     "output_type": "stream",
     "text": [
      "\u001b[32m2024-06-21 11:44:38.621\u001b[0m | \u001b[1mINFO    \u001b[0m | \u001b[36m__main__\u001b[0m:\u001b[36m<module>\u001b[0m:\u001b[36m52\u001b[0m - \u001b[1m \u001b[0m\n",
      "\u001b[32m2024-06-21 11:44:38.622\u001b[0m | \u001b[1mINFO    \u001b[0m | \u001b[36m__main__\u001b[0m:\u001b[36m<module>\u001b[0m:\u001b[36m53\u001b[0m - \u001b[1m\u001b[34m-------------------------------------------------------------------------------------------\u001b[0m\u001b[1m\u001b[0m\n",
      "\u001b[32m2024-06-21 11:44:38.622\u001b[0m | \u001b[1mINFO    \u001b[0m | \u001b[36m__main__\u001b[0m:\u001b[36m<module>\u001b[0m:\u001b[36m54\u001b[0m - \u001b[1m\u001b[34mStart prediction: 2023-02-23 00:00:00+00:00 - End prediction: 2023-02-24 00:00:00+00:00\u001b[0m\u001b[1m\u001b[0m\n",
      "\u001b[32m2024-06-21 11:44:38.625\u001b[0m | \u001b[1mINFO    \u001b[0m | \u001b[36m__main__\u001b[0m:\u001b[36m<module>\u001b[0m:\u001b[36m59\u001b[0m - \u001b[1m \u001b[0m\n",
      "\u001b[32m2024-06-21 11:44:38.625\u001b[0m | \u001b[1mINFO    \u001b[0m | \u001b[36m__main__\u001b[0m:\u001b[36m<module>\u001b[0m:\u001b[36m60\u001b[0m - \u001b[1m\u001b[34m -----------------> Forecasters prediction submitted \u001b[0m\u001b[1m\u001b[0m\n"
     ]
    }
   ],
   "source": [
    "# loss quantile gradient boosting regressor\n",
    "lst_rmse_gbr_ensemble = []\n",
    "# loss equal weights scheme\n",
    "lst_rmse_equal_weights = []\n",
    "# loss weighted average scheme\n",
    "lst_rmse_weighted_avg = []\n",
    "# loss baseline day ahead\n",
    "lst_rmse_baseline_dayahead = []\n",
    "# loss baseline day ahead 11\n",
    "lst_rmse_baseline_dayahead11h = []\n",
    "# loss baseline week ahead\n",
    "lst_rmse_baseline_week_ahead = []\n",
    "\n",
    "# loss var gradient boosting regressor\n",
    "lst_rmse_var_gbr_ensemble = []\n",
    "# loss var equal weights scheme\n",
    "lst_rmse_var_equal_weights = []\n",
    "# loss var weighted average scheme\n",
    "lst_rmse_var_weighted_avg = []\n",
    "# loss var baseline day ahead\n",
    "lst_rmse_var_baseline_dayahead = []\n",
    "# loss var baseline day ahead 11\n",
    "lst_rmse_var_baseline_dayahead11h = []\n",
    "# loss var baseline week ahead\n",
    "lst_rmse_var_baseline_week_ahead = []\n",
    "\n",
    "# loss quantile gradient boosting regressor\n",
    "lst_pb_gbr_ensemble_q10 = []\n",
    "lst_pb_gbr_ensemble_q90 = []\n",
    "# loss equal weights scheme\n",
    "lst_pb_weighted_avg_q10 = []\n",
    "lst_pb_weighted_avg_q90 = []\n",
    "# loss weighted average scheme\n",
    "lst_pb_equal_weights_q10 = []\n",
    "lst_pb_equal_weights_q90 = []\n",
    "# loss baseline day ahead\n",
    "lst_pb_dayahead_q10 = []\n",
    "lst_pb_dayahead_q90  = []\n",
    "# loss baseline day ahead 11\n",
    "lst_pb_dayahead_11h_q10 = []\n",
    "lst_pb_dayahead_11h_q90 = []\n",
    "# loss baseline week ahead\n",
    "lst_pb_week_ahead_q10 = []\n",
    "lst_pb_week_ahead_q90 = []\n",
    "\n",
    "\n",
    "i = 0  # index of the testing period\n",
    "\n",
    "# generate timestamps train and prediction\n",
    "start_training_timestamp, end_training_timestamp, start_prediction_timestamp, end_prediction_timestamp = generate_timestamps(sim_params['start_training'], i, sim_params['window_size'])\n",
    "\n",
    "logger.info(' ')\n",
    "logger.opt(colors = True).info('<blue>-------------------------------------------------------------------------------------------</blue>')\n",
    "logger.opt(colors = True).info(f'<blue>Start prediction: {start_prediction_timestamp} - End prediction: {end_prediction_timestamp}</blue>')\n",
    "\n",
    "df_train = df_filtered[df_filtered.index.to_series().between(start_training_timestamp, end_training_timestamp)].iloc[:-1,:]\n",
    "df_test = df_filtered[df_filtered.index.to_series().between(start_prediction_timestamp, end_prediction_timestamp)].iloc[:-1,:]\n",
    "\n",
    "logger.info(' ')\n",
    "logger.opt(colors = True).info('<blue> -----------------> Forecasters prediction submitted </blue>')\n",
    "\n",
    "# forecaster - day ahead forecast\n",
    "df_day_ahead_pred_train = create_day_ahead_predictions(df_train)\n",
    "df_day_ahead_pred_test = create_day_ahead_predictions(df_test)\n",
    "\n",
    "# forecaster - day ahead 11 forecast\n",
    "df_day_ahead11_pred_train = create_day_ahead_11_predictions(df_train)\n",
    "df_day_ahead11_pred_test = create_day_ahead_11_predictions(df_test)\n",
    "\n",
    "# forecaster - week ahead forecast\n",
    "df_week_ahead_pred_train = create_week_ahead_predictions(df_train)\n",
    "df_week_ahead_pred_test = create_week_ahead_predictions(df_test)\n",
    "\n",
    "# forecaster - day ahead quantile-10\n",
    "df_day_ahead_q10_train = create_day_ahead_quantiles10(df_train)\n",
    "df_day_ahead_q10_test = create_day_ahead_quantiles10(df_test)\n",
    "\n",
    "# forecaster - day ahead 11 quantile-10\n",
    "df_day_ahead11_q10_train = create_day_ahead_11_quantiles10(df_train)\n",
    "df_day_ahead11_q10_test = create_day_ahead_11_quantiles10(df_test)\n",
    "\n",
    "# forecaster - week ahead quantile-10\n",
    "df_week_ahead_q10_train = create_week_ahead_quantiles10(df_train)\n",
    "df_week_ahead_q10_test = create_week_ahead_quantiles10(df_test)\n",
    "\n",
    "# forecaster - day ahead quantile-90\n",
    "df_day_ahead_q90_train = create_day_ahead_quantiles90(df_train)\n",
    "df_day_ahead_q90_test = create_day_ahead_quantiles90(df_test)\n",
    "\n",
    "# forecaster - day ahead 11 quantile-90\n",
    "df_day_ahead11_q90_train = create_day_ahead_11_quantiles90(df_train)\n",
    "df_day_ahead11_q90_test = create_day_ahead_11_quantiles90(df_test)\n",
    "\n",
    "# forecaster - week ahead quantile-90\n",
    "df_week_ahead_q90_train = create_week_ahead_quantiles90(df_train)\n",
    "df_week_ahead_q90_test = create_week_ahead_quantiles90(df_test)"
   ]
  },
  {
   "cell_type": "markdown",
   "metadata": {},
   "source": [
    "# create buyer target"
   ]
  },
  {
   "cell_type": "code",
   "execution_count": 14,
   "metadata": {},
   "outputs": [
    {
     "name": "stderr",
     "output_type": "stream",
     "text": [
      "/var/folders/k7/l3pjpdtn7fg19hrh291yqwjw0000gn/T/ipykernel_45418/423057337.py:5: FutureWarning: The behavior of DataFrame concatenation with empty or all-NA entries is deprecated. In a future version, this will no longer exclude empty or all-NA columns when determining the result dtypes. To retain the old behavior, exclude the relevant entries before the concat operation.\n",
      "  df_buyer = pd.concat([df_train, df_test], axis=0)\n"
     ]
    }
   ],
   "source": [
    "df_train = pd.DataFrame(df_train['measured'])\n",
    "df_test = pd.DataFrame(df_test['measured'])\n",
    "df_test['measured'] = [None for i in range(len(df_test))]\n",
    "forecast_range = pd.date_range(start_prediction_timestamp, end_prediction_timestamp,freq='15min')\n",
    "df_buyer = pd.concat([df_train, df_test], axis=0)\n",
    "df_buyer['b1r1'] = df_buyer['measured']\n",
    "df_buyer.drop(columns=['measured'], inplace=True)\n",
    "df_buyer.index = pd.to_datetime(df_buyer.index, format = '%Y-%m-%d %H:%M:%S', utc=True)\n",
    "#df_buyer.to_csv('measurements.csv')"
   ]
  },
  {
   "cell_type": "code",
   "execution_count": 15,
   "metadata": {},
   "outputs": [
    {
     "data": {
      "text/plain": [
       "array([ True,  True,  True, ..., False, False, False])"
      ]
     },
     "execution_count": 15,
     "metadata": {},
     "output_type": "execute_result"
    }
   ],
   "source": [
    "df_buyer.index < forecast_range[0]"
   ]
  },
  {
   "cell_type": "code",
   "execution_count": null,
   "metadata": {},
   "outputs": [],
   "source": []
  },
  {
   "cell_type": "markdown",
   "metadata": {},
   "source": [
    "# create market features"
   ]
  },
  {
   "cell_type": "code",
   "execution_count": 16,
   "metadata": {},
   "outputs": [],
   "source": [
    "df_train_ensemble_quantile50 = pd.concat([df_day_ahead_pred_train, df_day_ahead11_pred_train, df_week_ahead_pred_train], axis=1)\n",
    "df_test_ensemble_quantile50 = pd.concat([df_day_ahead_pred_test, df_day_ahead11_pred_test, df_week_ahead_pred_test], axis=1)\n",
    "df_ensemble_quantile50 = pd.concat([df_train_ensemble_quantile50, df_test_ensemble_quantile50], axis=0)\n",
    "\n",
    "df_train_ensemble_quantile10 = pd.concat([df_day_ahead_q10_train, df_day_ahead11_q10_train, df_week_ahead_q10_train], axis=1)\n",
    "df_test_ensemble_quantile10 = pd.concat([df_day_ahead_q10_test, df_day_ahead11_q10_test, df_week_ahead_q10_test], axis=1)\n",
    "df_ensemble_quantile10 = pd.concat([df_train_ensemble_quantile10, df_test_ensemble_quantile10], axis=0)\n",
    "\n",
    "df_train_ensemble_quantile90 = pd.concat([df_day_ahead_q90_train, df_day_ahead11_q90_train, df_week_ahead_q90_train], axis=1)\n",
    "df_test_ensemble_quantile90 = pd.concat([df_day_ahead_q90_test, df_day_ahead11_q90_test, df_week_ahead_q90_test], axis=1)\n",
    "df_ensemble_quantile90 = pd.concat([df_train_ensemble_quantile90, df_test_ensemble_quantile90], axis=0)\n",
    "\n",
    "df_ensemble_quantile50.columns = ['s1_q50_b1r1', 's2_q50_b1r1', 's3_q50_b1r1']\n",
    "df_ensemble_quantile10.columns = ['s1_q10_b1r1', 's2_q10_b1r1', 's3_q10_b1r1']\n",
    "df_ensemble_quantile90.columns = ['s1_q90_b1r1', 's2_q90_b1r1', 's3_q90_b1r1']\n",
    "\n",
    "df_market = pd.concat([df_ensemble_quantile50, df_ensemble_quantile10, df_ensemble_quantile90], axis=1)\n",
    "df_market.index = pd.to_datetime(df_market.index, format = '%Y-%m-%d %H:%M:%S', utc=True)\n",
    "#df_market.to_csv('forecasts.csv')"
   ]
  },
  {
   "cell_type": "markdown",
   "metadata": {},
   "source": [
    "# PREDICO ML engine"
   ]
  },
  {
   "cell_type": "code",
   "execution_count": 17,
   "metadata": {},
   "outputs": [
    {
     "name": "stderr",
     "output_type": "stream",
     "text": [
      "\u001b[32m2024-06-21 11:44:38.863\u001b[0m | \u001b[1mINFO    \u001b[0m | \u001b[36msource.ml_engine\u001b[0m:\u001b[36mcreate_ensemble_forecasts\u001b[0m:\u001b[36m37\u001b[0m - \u001b[1m  \u001b[0m\n",
      "\u001b[32m2024-06-21 11:44:38.864\u001b[0m | \u001b[1mINFO    \u001b[0m | \u001b[36msource.ml_engine\u001b[0m:\u001b[36mcreate_ensemble_forecasts\u001b[0m:\u001b[36m38\u001b[0m - \u001b[1m\u001b[38;2;250;128;114m PREDICO Machine Learning Engine \u001b[0m\u001b[1m \u001b[0m\n",
      "\u001b[32m2024-06-21 11:44:38.864\u001b[0m | \u001b[1mINFO    \u001b[0m | \u001b[36msource.ml_engine\u001b[0m:\u001b[36mcreate_ensemble_forecasts\u001b[0m:\u001b[36m39\u001b[0m - \u001b[1m  \u001b[0m\n",
      "\u001b[32m2024-06-21 11:44:38.864\u001b[0m | \u001b[1mINFO    \u001b[0m | \u001b[36msource.ml_engine\u001b[0m:\u001b[36mcreate_ensemble_forecasts\u001b[0m:\u001b[36m40\u001b[0m - \u001b[1m\u001b[38;2;250;128;114m Predictions from 2023-02-23 00:00:00+00:00 to 2023-02-24 00:00:00+00:00 \u001b[0m\u001b[1m \u001b[0m\n",
      "\u001b[32m2024-06-21 11:44:38.864\u001b[0m | \u001b[1mINFO    \u001b[0m | \u001b[36msource.ml_engine\u001b[0m:\u001b[36mcreate_ensemble_forecasts\u001b[0m:\u001b[36m41\u001b[0m - \u001b[1m  \u001b[0m\n",
      "\u001b[32m2024-06-21 11:44:38.865\u001b[0m | \u001b[1mINFO    \u001b[0m | \u001b[36msource.ml_engine\u001b[0m:\u001b[36mcreate_ensemble_forecasts\u001b[0m:\u001b[36m43\u001b[0m - \u001b[1m\u001b[38;2;250;128;114m Buyer Resource Name: b1r1 \u001b[0m\u001b[1m\u001b[0m\n",
      "\u001b[32m2024-06-21 11:44:38.865\u001b[0m | \u001b[1mINFO    \u001b[0m | \u001b[36msource.ml_engine\u001b[0m:\u001b[36mcreate_ensemble_forecasts\u001b[0m:\u001b[36m44\u001b[0m - \u001b[1m\u001b[38;2;250;128;114m Maximum Capacity: 2226.56 \u001b[0m\u001b[1m\u001b[0m\n",
      "\u001b[32m2024-06-21 11:44:38.865\u001b[0m | \u001b[1mINFO    \u001b[0m | \u001b[36msource.ml_engine\u001b[0m:\u001b[36mcreate_ensemble_forecasts\u001b[0m:\u001b[36m45\u001b[0m - \u001b[1m  \u001b[0m\n",
      "\u001b[32m2024-06-21 11:44:38.865\u001b[0m | \u001b[1mINFO    \u001b[0m | \u001b[36msource.ml_engine\u001b[0m:\u001b[36mcreate_ensemble_forecasts\u001b[0m:\u001b[36m48\u001b[0m - \u001b[1m\u001b[38;2;250;128;114m Collecting forecasters prediction for ensemble learning - model: LR \u001b[0m\u001b[1m\u001b[0m\n",
      "\u001b[32m2024-06-21 11:44:38.866\u001b[0m | \u001b[1mINFO    \u001b[0m | \u001b[36msource.ml_engine\u001b[0m:\u001b[36mcreate_ensemble_forecasts\u001b[0m:\u001b[36m49\u001b[0m - \u001b[1m  \u001b[0m\n",
      "\u001b[32m2024-06-21 11:44:38.866\u001b[0m | \u001b[1mINFO    \u001b[0m | \u001b[36msource.ml_engine\u001b[0m:\u001b[36mcreate_ensemble_forecasts\u001b[0m:\u001b[36m50\u001b[0m - \u001b[1m\u001b[38;2;250;128;114m Forecasters Ensemble DataFrame \u001b[0m\u001b[1m\u001b[0m\n",
      "\u001b[32m2024-06-21 11:44:38.866\u001b[0m | \u001b[1mINFO    \u001b[0m | \u001b[36msource.ml_engine\u001b[0m:\u001b[36mcreate_ensemble_forecasts\u001b[0m:\u001b[36m53\u001b[0m - \u001b[1m   \u001b[0m\n",
      "\u001b[32m2024-06-21 11:44:38.867\u001b[0m | \u001b[1mINFO    \u001b[0m | \u001b[36msource.ml_engine\u001b[0m:\u001b[36mcreate_ensemble_forecasts\u001b[0m:\u001b[36m54\u001b[0m - \u001b[1m\u001b[38;2;250;128;114m Normalize DataFrame \u001b[0m\u001b[1m\u001b[0m\n",
      "\u001b[32m2024-06-21 11:44:38.869\u001b[0m | \u001b[1mINFO    \u001b[0m | \u001b[36msource.ml_engine\u001b[0m:\u001b[36mcreate_ensemble_forecasts\u001b[0m:\u001b[36m66\u001b[0m - \u001b[1m   \u001b[0m\n",
      "\u001b[32m2024-06-21 11:44:38.869\u001b[0m | \u001b[1mINFO    \u001b[0m | \u001b[36msource.ml_engine\u001b[0m:\u001b[36mcreate_ensemble_forecasts\u001b[0m:\u001b[36m67\u001b[0m - \u001b[1m\u001b[38;2;250;128;114m Augment DataFrame \u001b[0m\u001b[1m\u001b[0m\n",
      "\u001b[32m2024-06-21 11:44:38.876\u001b[0m | \u001b[1mINFO    \u001b[0m | \u001b[36msource.ml_engine\u001b[0m:\u001b[36mcreate_ensemble_forecasts\u001b[0m:\u001b[36m149\u001b[0m - \u001b[1m   \u001b[0m\n",
      "\u001b[32m2024-06-21 11:44:38.877\u001b[0m | \u001b[1mINFO    \u001b[0m | \u001b[36msource.ml_engine\u001b[0m:\u001b[36mcreate_ensemble_forecasts\u001b[0m:\u001b[36m150\u001b[0m - \u001b[1m\u001b[38;2;250;128;114m Iteration 46 \u001b[0m\u001b[1m\u001b[0m\n",
      "\u001b[32m2024-06-21 11:44:38.877\u001b[0m | \u001b[1mINFO    \u001b[0m | \u001b[36msource.ml_engine\u001b[0m:\u001b[36mcreate_ensemble_forecasts\u001b[0m:\u001b[36m153\u001b[0m - \u001b[1m   \u001b[0m\n",
      "\u001b[32m2024-06-21 11:44:38.877\u001b[0m | \u001b[1mINFO    \u001b[0m | \u001b[36msource.ml_engine\u001b[0m:\u001b[36mcreate_ensemble_forecasts\u001b[0m:\u001b[36m154\u001b[0m - \u001b[1m\u001b[38;2;250;128;114m Compute Ensemble Predictions \u001b[0m\u001b[1m\u001b[0m\n",
      "Quantile Regression:   0%|          | 0/3 [00:00<?, ?it/s]\u001b[32m2024-06-21 11:44:38.891\u001b[0m | \u001b[1mINFO    \u001b[0m | \u001b[36msource.ensemble.stack_generalization.ensemble_model\u001b[0m:\u001b[36mpredico_ensemble_predictions_per_quantile\u001b[0m:\u001b[36m82\u001b[0m - \u001b[1m   \u001b[0m\n",
      "\u001b[32m2024-06-21 11:44:38.892\u001b[0m | \u001b[1mINFO    \u001b[0m | \u001b[36msource.ensemble.stack_generalization.ensemble_model\u001b[0m:\u001b[36mpredico_ensemble_predictions_per_quantile\u001b[0m:\u001b[36m83\u001b[0m - \u001b[1m\u001b[38;2;250;128;114m Run ensemble predictions for quantile 0.1 \u001b[0m\u001b[1m\u001b[0m\n",
      "\u001b[32m2024-06-21 11:44:38.892\u001b[0m | \u001b[1mINFO    \u001b[0m | \u001b[36msource.ensemble.stack_generalization.ensemble_model\u001b[0m:\u001b[36mpredico_ensemble_predictions_per_quantile\u001b[0m:\u001b[36m104\u001b[0m - \u001b[1m\u001b[38;2;250;128;114m Using best hyperparameters from first iteration \u001b[0m\u001b[1m\u001b[0m\n",
      "Quantile Regression:  33%|███▎      | 1/3 [00:00<00:00,  4.19it/s]\u001b[32m2024-06-21 11:44:39.130\u001b[0m | \u001b[1mINFO    \u001b[0m | \u001b[36msource.ensemble.stack_generalization.ensemble_model\u001b[0m:\u001b[36mpredico_ensemble_predictions_per_quantile\u001b[0m:\u001b[36m82\u001b[0m - \u001b[1m   \u001b[0m\n",
      "\u001b[32m2024-06-21 11:44:39.131\u001b[0m | \u001b[1mINFO    \u001b[0m | \u001b[36msource.ensemble.stack_generalization.ensemble_model\u001b[0m:\u001b[36mpredico_ensemble_predictions_per_quantile\u001b[0m:\u001b[36m83\u001b[0m - \u001b[1m\u001b[38;2;250;128;114m Run ensemble predictions for quantile 0.9 \u001b[0m\u001b[1m\u001b[0m\n",
      "\u001b[32m2024-06-21 11:44:39.131\u001b[0m | \u001b[1mINFO    \u001b[0m | \u001b[36msource.ensemble.stack_generalization.ensemble_model\u001b[0m:\u001b[36mpredico_ensemble_predictions_per_quantile\u001b[0m:\u001b[36m104\u001b[0m - \u001b[1m\u001b[38;2;250;128;114m Using best hyperparameters from first iteration \u001b[0m\u001b[1m\u001b[0m\n",
      "Quantile Regression:  67%|██████▋   | 2/3 [00:00<00:00,  4.20it/s]\u001b[32m2024-06-21 11:44:39.367\u001b[0m | \u001b[1mINFO    \u001b[0m | \u001b[36msource.ensemble.stack_generalization.ensemble_model\u001b[0m:\u001b[36mpredico_ensemble_predictions_per_quantile\u001b[0m:\u001b[36m82\u001b[0m - \u001b[1m   \u001b[0m\n",
      "\u001b[32m2024-06-21 11:44:39.368\u001b[0m | \u001b[1mINFO    \u001b[0m | \u001b[36msource.ensemble.stack_generalization.ensemble_model\u001b[0m:\u001b[36mpredico_ensemble_predictions_per_quantile\u001b[0m:\u001b[36m83\u001b[0m - \u001b[1m\u001b[38;2;250;128;114m Run ensemble predictions for quantile 0.5 \u001b[0m\u001b[1m\u001b[0m\n",
      "\u001b[32m2024-06-21 11:44:39.368\u001b[0m | \u001b[1mINFO    \u001b[0m | \u001b[36msource.ensemble.stack_generalization.ensemble_model\u001b[0m:\u001b[36mpredico_ensemble_predictions_per_quantile\u001b[0m:\u001b[36m104\u001b[0m - \u001b[1m\u001b[38;2;250;128;114m Using best hyperparameters from first iteration \u001b[0m\u001b[1m\u001b[0m\n",
      "\u001b[32m2024-06-21 11:44:39.370\u001b[0m | \u001b[1mINFO    \u001b[0m | \u001b[36msource.ml_engine\u001b[0m:\u001b[36mcreate_ensemble_forecasts\u001b[0m:\u001b[36m184\u001b[0m - \u001b[1m   \u001b[0m\n",
      "\u001b[32m2024-06-21 11:44:39.370\u001b[0m | \u001b[1mINFO    \u001b[0m | \u001b[36msource.ml_engine\u001b[0m:\u001b[36mcreate_ensemble_forecasts\u001b[0m:\u001b[36m185\u001b[0m - \u001b[1m\u001b[38;2;72;201;176m Compute Variability Predictions \u001b[0m\u001b[1m\u001b[0m\n",
      "\u001b[32m2024-06-21 11:44:39.427\u001b[0m | \u001b[1mINFO    \u001b[0m | \u001b[36msource.ensemble.stack_generalization.ensemble_model\u001b[0m:\u001b[36mpredico_ensemble_variability_predictions\u001b[0m:\u001b[36m125\u001b[0m - \u001b[1m\u001b[38;2;72;201;176m Run ensemble variability predictions for quantile 0.1 \u001b[0m\u001b[1m\u001b[0m\n",
      "\u001b[32m2024-06-21 11:44:39.430\u001b[0m | \u001b[1mINFO    \u001b[0m | \u001b[36msource.ensemble.stack_generalization.ensemble_model\u001b[0m:\u001b[36mpredico_ensemble_variability_predictions\u001b[0m:\u001b[36m132\u001b[0m - \u001b[1m\u001b[38;2;72;201;176m Using best hyperparameters from first iteration \u001b[0m\u001b[1m\u001b[0m\n",
      "\u001b[32m2024-06-21 11:44:39.691\u001b[0m | \u001b[1mINFO    \u001b[0m | \u001b[36msource.ensemble.stack_generalization.ensemble_model\u001b[0m:\u001b[36mpredico_ensemble_variability_predictions\u001b[0m:\u001b[36m125\u001b[0m - \u001b[1m\u001b[38;2;72;201;176m Run ensemble variability predictions for quantile 0.9 \u001b[0m\u001b[1m\u001b[0m\n",
      "\u001b[32m2024-06-21 11:44:39.691\u001b[0m | \u001b[1mINFO    \u001b[0m | \u001b[36msource.ensemble.stack_generalization.ensemble_model\u001b[0m:\u001b[36mpredico_ensemble_variability_predictions\u001b[0m:\u001b[36m132\u001b[0m - \u001b[1m\u001b[38;2;72;201;176m Using best hyperparameters from first iteration \u001b[0m\u001b[1m\u001b[0m\n",
      "\u001b[32m2024-06-21 11:44:39.854\u001b[0m | \u001b[1mINFO    \u001b[0m | \u001b[36msource.ensemble.stack_generalization.ensemble_model\u001b[0m:\u001b[36mpredico_ensemble_variability_predictions\u001b[0m:\u001b[36m125\u001b[0m - \u001b[1m\u001b[38;2;72;201;176m Run ensemble variability predictions for quantile 0.5 \u001b[0m\u001b[1m\u001b[0m\n",
      "\u001b[32m2024-06-21 11:44:39.854\u001b[0m | \u001b[1mINFO    \u001b[0m | \u001b[36msource.ensemble.stack_generalization.ensemble_model\u001b[0m:\u001b[36mpredico_ensemble_variability_predictions\u001b[0m:\u001b[36m132\u001b[0m - \u001b[1m\u001b[38;2;72;201;176m Using best hyperparameters from first iteration \u001b[0m\u001b[1m\u001b[0m\n",
      "Quantile Regression: 100%|██████████| 3/3 [00:00<00:00,  7.02it/s]\n",
      "Quantile Regression: 100%|██████████| 3/3 [00:01<00:00,  2.82it/s]\n"
     ]
    }
   ],
   "source": [
    "from source.ml_engine import create_ensemble_forecasts\n",
    "\n",
    "\n",
    "forecasts = create_ensemble_forecasts(ens_params=ens_params,\n",
    "                                    df_buyer=df_buyer, \n",
    "                                    df_market=df_market,\n",
    "                                    forecast_range=forecast_range,\n",
    "                                    challenge_usecase=buyer_params['challenge_usecase'],\n",
    "                                    simulation=False)\n",
    "\n",
    "assert len(forecasts) == 288, 'The number of forecasts is not correct'"
   ]
  },
  {
   "cell_type": "code",
   "execution_count": 23,
   "metadata": {},
   "outputs": [
    {
     "data": {
      "text/html": [
       "<div>\n",
       "<style scoped>\n",
       "    .dataframe tbody tr th:only-of-type {\n",
       "        vertical-align: middle;\n",
       "    }\n",
       "\n",
       "    .dataframe tbody tr th {\n",
       "        vertical-align: top;\n",
       "    }\n",
       "\n",
       "    .dataframe thead th {\n",
       "        text-align: right;\n",
       "    }\n",
       "</style>\n",
       "<table border=\"1\" class=\"dataframe\">\n",
       "  <thead>\n",
       "    <tr style=\"text-align: right;\">\n",
       "      <th></th>\n",
       "      <th>datetime</th>\n",
       "      <th>variable</th>\n",
       "      <th>value</th>\n",
       "    </tr>\n",
       "  </thead>\n",
       "  <tbody>\n",
       "    <tr>\n",
       "      <th>0</th>\n",
       "      <td>2023-02-23 00:00:00+00:00</td>\n",
       "      <td>q10_b1r1</td>\n",
       "      <td>0.000000</td>\n",
       "    </tr>\n",
       "    <tr>\n",
       "      <th>1</th>\n",
       "      <td>2023-02-23 00:15:00+00:00</td>\n",
       "      <td>q10_b1r1</td>\n",
       "      <td>0.000000</td>\n",
       "    </tr>\n",
       "    <tr>\n",
       "      <th>2</th>\n",
       "      <td>2023-02-23 00:30:00+00:00</td>\n",
       "      <td>q10_b1r1</td>\n",
       "      <td>0.000000</td>\n",
       "    </tr>\n",
       "    <tr>\n",
       "      <th>3</th>\n",
       "      <td>2023-02-23 00:45:00+00:00</td>\n",
       "      <td>q10_b1r1</td>\n",
       "      <td>0.001486</td>\n",
       "    </tr>\n",
       "    <tr>\n",
       "      <th>4</th>\n",
       "      <td>2023-02-23 01:00:00+00:00</td>\n",
       "      <td>q10_b1r1</td>\n",
       "      <td>0.003178</td>\n",
       "    </tr>\n",
       "    <tr>\n",
       "      <th>...</th>\n",
       "      <td>...</td>\n",
       "      <td>...</td>\n",
       "      <td>...</td>\n",
       "    </tr>\n",
       "    <tr>\n",
       "      <th>283</th>\n",
       "      <td>2023-02-23 22:45:00+00:00</td>\n",
       "      <td>q50_b1r1</td>\n",
       "      <td>0.054544</td>\n",
       "    </tr>\n",
       "    <tr>\n",
       "      <th>284</th>\n",
       "      <td>2023-02-23 23:00:00+00:00</td>\n",
       "      <td>q50_b1r1</td>\n",
       "      <td>0.033063</td>\n",
       "    </tr>\n",
       "    <tr>\n",
       "      <th>285</th>\n",
       "      <td>2023-02-23 23:15:00+00:00</td>\n",
       "      <td>q50_b1r1</td>\n",
       "      <td>0.022686</td>\n",
       "    </tr>\n",
       "    <tr>\n",
       "      <th>286</th>\n",
       "      <td>2023-02-23 23:30:00+00:00</td>\n",
       "      <td>q50_b1r1</td>\n",
       "      <td>0.003158</td>\n",
       "    </tr>\n",
       "    <tr>\n",
       "      <th>287</th>\n",
       "      <td>2023-02-23 23:45:00+00:00</td>\n",
       "      <td>q50_b1r1</td>\n",
       "      <td>0.000000</td>\n",
       "    </tr>\n",
       "  </tbody>\n",
       "</table>\n",
       "<p>288 rows × 3 columns</p>\n",
       "</div>"
      ],
      "text/plain": [
       "                     datetime  variable     value\n",
       "0   2023-02-23 00:00:00+00:00  q10_b1r1  0.000000\n",
       "1   2023-02-23 00:15:00+00:00  q10_b1r1  0.000000\n",
       "2   2023-02-23 00:30:00+00:00  q10_b1r1  0.000000\n",
       "3   2023-02-23 00:45:00+00:00  q10_b1r1  0.001486\n",
       "4   2023-02-23 01:00:00+00:00  q10_b1r1  0.003178\n",
       "..                        ...       ...       ...\n",
       "283 2023-02-23 22:45:00+00:00  q50_b1r1  0.054544\n",
       "284 2023-02-23 23:00:00+00:00  q50_b1r1  0.033063\n",
       "285 2023-02-23 23:15:00+00:00  q50_b1r1  0.022686\n",
       "286 2023-02-23 23:30:00+00:00  q50_b1r1  0.003158\n",
       "287 2023-02-23 23:45:00+00:00  q50_b1r1  0.000000\n",
       "\n",
       "[288 rows x 3 columns]"
      ]
     },
     "execution_count": 23,
     "metadata": {},
     "output_type": "execute_result"
    }
   ],
   "source": [
    "forecasts"
   ]
  },
  {
   "cell_type": "code",
   "execution_count": 21,
   "metadata": {},
   "outputs": [
    {
     "name": "stderr",
     "output_type": "stream",
     "text": [
      "/var/folders/k7/l3pjpdtn7fg19hrh291yqwjw0000gn/T/ipykernel_45418/646519690.py:19: FutureWarning: The behavior of 'isin' with dtype=datetime64[ns, UTC] and castable values (e.g. strings) is deprecated. In a future version, these will not be considered matching by isin. Explicitly cast to the appropriate dtype before calling isin instead.\n",
      "  y_test = df_buyer[df_buyer.index.isin(previous_day_forecast_range)].values\n"
     ]
    }
   ],
   "source": [
    "import pickle\n",
    "\n",
    "buyer_resource_name = 'b1r1'\n",
    "\n",
    "with open('info_model/b1r1_previous_day.pickle', 'rb') as previous_day_file:\n",
    "    results = pickle.load(previous_day_file)\n",
    "\n",
    "previous_day_lt = pd.to_datetime(results['previous_lt']) - pd.DateOffset(days=1)\n",
    "previous_date = previous_day_lt.date().strftime('%Y-%m-%d')\n",
    "current_day_lt = previous_day_lt + pd.DateOffset(days=1)\n",
    "current_day = (current_day_lt - pd.DateOffset(days=1)).strftime('%Y-%m-%d')\n",
    "assert previous_date == current_day, 'The date is not correct'\n",
    "\n",
    "# create the forecast range for the previous day\n",
    "previous_day_forecast_range = pd.date_range(start=previous_day_lt, end=current_day_lt, freq='15min').strftime('%Y-%m-%d %H:%M')[:-1]\n",
    "assert len(previous_day_forecast_range) == 96, f'The number of timestamps is not correct {len(previous_day_forecast_range)}'\n",
    "\n",
    "# get the buyer measurements for the previous day\n",
    "y_test = df_buyer[df_buyer.index.isin(previous_day_forecast_range)].values\n",
    "# assert nans are not present\n",
    "assert np.isnan(y_test).sum() == 0, 'There are nans in the buyer measurements'"
   ]
  },
  {
   "cell_type": "code",
   "execution_count": 22,
   "metadata": {},
   "outputs": [
    {
     "name": "stderr",
     "output_type": "stream",
     "text": [
      "\u001b[32m2024-06-21 11:44:40.036\u001b[0m | \u001b[1mINFO    \u001b[0m | \u001b[36msource.assessment_contributions\u001b[0m:\u001b[36mcompute_forecasters_contributions\u001b[0m:\u001b[36m8\u001b[0m - \u001b[1mLoad model info from file: ./info_model/b1r1_previous_day.pickle\u001b[0m\n",
      "\u001b[32m2024-06-21 11:44:40.037\u001b[0m | \u001b[1mINFO    \u001b[0m | \u001b[36msource.assessment_contributions\u001b[0m:\u001b[36mcompute_forecasters_contributions\u001b[0m:\u001b[36m10\u001b[0m - \u001b[1mGet the contributions for the buyer resource: b1r1\u001b[0m\n",
      "\u001b[32m2024-06-21 11:44:40.037\u001b[0m | \u001b[1mINFO    \u001b[0m | \u001b[36msource.ensemble.stack_generalization.test_importance.first_stage_importance\u001b[0m:\u001b[36mwind_power_importance\u001b[0m:\u001b[36m55\u001b[0m - \u001b[1m\u001b[34m--\u001b[0m\u001b[1m\u001b[34m--\u001b[0m\u001b[1m\u001b[34m--\u001b[0m\u001b[1m\u001b[34m--\u001b[0m\u001b[1m\u001b[34m--\u001b[0m\u001b[1m\u001b[34m--\u001b[0m\u001b[1m\u001b[34m--\u001b[0m\u001b[1m\u001b[34m--\u001b[0m\u001b[1m\u001b[34m--\u001b[0m\u001b[1m\u001b[34m--\u001b[0m\u001b[1m\u001b[34m--\u001b[0m\u001b[1m\u001b[34m--\u001b[0m\u001b[1m\u001b[34m--\u001b[0m\u001b[1m\u001b[34m--\u001b[0m\u001b[1m\u001b[34m--\u001b[0m\u001b[1m\u001b[34m--\u001b[0m\u001b[1m\u001b[34m--\u001b[0m\u001b[1m\u001b[34m--\u001b[0m\u001b[1m\u001b[34m--\u001b[0m\u001b[1m\u001b[34m--\u001b[0m\u001b[1m\u001b[34m--\u001b[0m\u001b[1m\u001b[34m--\u001b[0m\u001b[1m\u001b[34m--\u001b[0m\u001b[1m\u001b[34m--\u001b[0m\u001b[1m\u001b[34m--\u001b[0m\u001b[1m\u001b[34m--\u001b[0m\u001b[1m\u001b[34m--\u001b[0m\u001b[1m\u001b[34m--\u001b[0m\u001b[1m\u001b[34m--\u001b[0m\u001b[1m\u001b[34m--\u001b[0m\u001b[1m\u001b[34m--\u001b[0m\u001b[1m\u001b[34m--\u001b[0m\u001b[1m\u001b[34m--\u001b[0m\u001b[1m\u001b[34m--\u001b[0m\u001b[1m\u001b[34m--\u001b[0m\u001b[1m\u001b[34m--\u001b[0m\u001b[1m\u001b[34m--\u001b[0m\u001b[1m\u001b[34m--\u001b[0m\u001b[1m\u001b[34m--\u001b[0m\u001b[1m\u001b[34m--\u001b[0m\u001b[1m\u001b[34m--\u001b[0m\u001b[1m\u001b[34m--\u001b[0m\u001b[1m\u001b[34m--\u001b[0m\u001b[1m\u001b[34m--\u001b[0m\u001b[1m\u001b[34m--\u001b[0m\u001b[1m\u001b[34m--\u001b[0m\u001b[1m\u001b[34m--\u001b[0m\u001b[1m\u001b[34m--\u001b[0m\u001b[1m\u001b[34m--\u001b[0m\u001b[1m\u001b[34m--\u001b[0m\u001b[1m\u001b[34m--\u001b[0m\u001b[1m\u001b[34m--\u001b[0m\u001b[1m\u001b[34m--\u001b[0m\u001b[1m\u001b[34m--\u001b[0m\u001b[1m\u001b[34m--\u001b[0m\u001b[1m\u001b[34m--\u001b[0m\u001b[1m\u001b[34m--\u001b[0m\u001b[1m\u001b[34m--\u001b[0m\u001b[1m\u001b[34m--\u001b[0m\u001b[1m\u001b[34m--\u001b[0m\u001b[1m\u001b[34m--\u001b[0m\u001b[1m\u001b[34m--\u001b[0m\u001b[1m\u001b[34m--\u001b[0m\u001b[1m\u001b[34m--\u001b[0m\u001b[1m\u001b[34m--\u001b[0m\u001b[1m\u001b[34m--\u001b[0m\u001b[1m\u001b[34m--\u001b[0m\u001b[1m\u001b[34m--\u001b[0m\u001b[1m\u001b[34m--\u001b[0m\u001b[1m\u001b[34m--\u001b[0m\u001b[1m\u001b[34m--\u001b[0m\u001b[1m\u001b[34m--\u001b[0m\u001b[1m\u001b[34m--\u001b[0m\u001b[1m\u001b[34m--\u001b[0m\u001b[1m\u001b[34m--\u001b[0m\u001b[1m\u001b[34m--\u001b[0m\u001b[1m\u001b[34m--\u001b[0m\u001b[1m\u001b[34m--\u001b[0m\u001b[1m\u001b[34m--\u001b[0m\u001b[1m\u001b[0m\n",
      "\u001b[32m2024-06-21 11:44:40.037\u001b[0m | \u001b[1mINFO    \u001b[0m | \u001b[36msource.ensemble.stack_generalization.test_importance.first_stage_importance\u001b[0m:\u001b[36mwind_power_importance\u001b[0m:\u001b[36m56\u001b[0m - \u001b[1m\u001b[34mWind Power\u001b[0m\u001b[1m\u001b[0m\n",
      "\u001b[32m2024-06-21 11:44:40.038\u001b[0m | \u001b[1mINFO    \u001b[0m | \u001b[36msource.ensemble.stack_generalization.test_importance.first_stage_importance\u001b[0m:\u001b[36mwind_power_importance\u001b[0m:\u001b[36m60\u001b[0m - \u001b[1mNumber of permutations: 100\u001b[0m\n",
      "\u001b[32m2024-06-21 11:44:40.038\u001b[0m | \u001b[1mINFO    \u001b[0m | \u001b[36msource.ensemble.stack_generalization.test_importance.first_stage_importance\u001b[0m:\u001b[36mwind_power_importance\u001b[0m:\u001b[36m63\u001b[0m - \u001b[1m\u001b[34mQuantile: 0.1\u001b[0m\u001b[1m\u001b[0m\n",
      "\u001b[32m2024-06-21 11:44:40.038\u001b[0m | \u001b[31m\u001b[1mERROR   \u001b[0m | \u001b[36msource.ensemble.stack_generalization.test_importance.forecasters_contributions\u001b[0m:\u001b[36mcalculate_contributions\u001b[0m:\u001b[36m30\u001b[0m - \u001b[31m\u001b[1mFailed to calculate contributions: X and y should have the same number of rows\u001b[0m\n"
     ]
    },
    {
     "data": {
      "text/plain": [
       "defaultdict(dict, {})"
      ]
     },
     "execution_count": 22,
     "metadata": {},
     "output_type": "execute_result"
    }
   ],
   "source": [
    "from source.assessment_contributions import compute_forecasters_contributions\n",
    "\n",
    "results_contributions = compute_forecasters_contributions(buyer_resource_name, ens_params, y_test, previous_day_forecast_range)\n",
    "results_contributions"
   ]
  }
 ],
 "metadata": {
  "kernelspec": {
   "display_name": "elia",
   "language": "python",
   "name": "python3"
  },
  "language_info": {
   "codemirror_mode": {
    "name": "ipython",
    "version": 3
   },
   "file_extension": ".py",
   "mimetype": "text/x-python",
   "name": "python",
   "nbconvert_exporter": "python",
   "pygments_lexer": "ipython3",
   "version": "3.9.19"
  }
 },
 "nbformat": 4,
 "nbformat_minor": 2
}
